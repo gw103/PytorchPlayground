{
  "cells": [
    {
      "cell_type": "code",
      "execution_count": null,
      "metadata": {
        "id": "vPDhWlchgdhg"
      },
      "outputs": [],
      "source": [
        "import numpy as np\n",
        "import torch"
      ]
    },
    {
      "cell_type": "code",
      "execution_count": null,
      "metadata": {
        "id": "i93rOwkWxBWE"
      },
      "outputs": [],
      "source": []
    },
    {
      "cell_type": "code",
      "execution_count": null,
      "metadata": {
        "colab": {
          "base_uri": "https://localhost:8080/"
        },
        "id": "C1eNVhpCgf-A",
        "outputId": "c106fd04-d720-4a49-f308-f4c1d5dab3ab"
      },
      "outputs": [
        {
          "name": "stdout",
          "output_type": "stream",
          "text": [
            "<class 'numpy.ndarray'>\n",
            "<class 'torch.Tensor'>\n"
          ]
        }
      ],
      "source": [
        "a = torch.ones(5)\n",
        "b = np.array(a)\n",
        "c = a.numpy()\n",
        "print(type(b))\n",
        "print(type(a))"
      ]
    },
    {
      "cell_type": "code",
      "execution_count": null,
      "metadata": {
        "colab": {
          "base_uri": "https://localhost:8080/"
        },
        "id": "A0lBUtaVgyA8",
        "outputId": "815813f3-9ae5-4a8c-e449-6bff6869cc39"
      },
      "outputs": [
        {
          "name": "stdout",
          "output_type": "stream",
          "text": [
            "tensor([1., 1., 1., 1., 1.], dtype=torch.float64)\n",
            "tensor([1., 1., 1., 1., 1.], dtype=torch.float64)\n"
          ]
        }
      ],
      "source": [
        "a = np.ones(5)\n",
        "b = torch.tensor(a)\n",
        "print(b)\n",
        "b = torch.from_numpy(a)\n",
        "print(b)"
      ]
    },
    {
      "cell_type": "code",
      "execution_count": null,
      "metadata": {
        "colab": {
          "base_uri": "https://localhost:8080/"
        },
        "id": "mUWpN2EzkHwF",
        "outputId": "8e86365d-6e9e-4a2c-8bec-65241217379a"
      },
      "outputs": [
        {
          "name": "stdout",
          "output_type": "stream",
          "text": [
            "[2. 2. 2. 2. 2. 2.]\n",
            "<class 'numpy.ndarray'>\n"
          ]
        }
      ],
      "source": [
        "if torch.cuda.is_available:\n",
        "  device = torch.device('cuda')\n",
        "  a = torch.ones(6, device = device)\n",
        "  b = torch.ones(6)\n",
        "  b = b.to(device)\n",
        "  c = a+b\n",
        "  c = c.to('cpu')\n",
        "  #c = c.cpu()\n",
        "  c = c.numpy()\n",
        "  print(c)\n",
        "  print(type(c))"
      ]
    },
    {
      "cell_type": "code",
      "execution_count": null,
      "metadata": {
        "id": "-7QbnbRjmbTj"
      },
      "outputs": [],
      "source": [
        "c = torch.ones(5,requires_grad = True)"
      ]
    },
    {
      "cell_type": "code",
      "execution_count": null,
      "metadata": {
        "colab": {
          "base_uri": "https://localhost:8080/"
        },
        "id": "1DLTKZ0inBgI",
        "outputId": "b7c7e2e1-bd19-41c0-d7c3-66e927c2c117"
      },
      "outputs": [
        {
          "name": "stdout",
          "output_type": "stream",
          "text": [
            "tensor([0.6941, 0.3010, 0.3399], requires_grad=True)\n",
            "tensor([2.6941, 2.3010, 2.3399], grad_fn=<AddBackward0>)\n"
          ]
        }
      ],
      "source": [
        "import math\n",
        "x = torch.randn(3, requires_grad = True)\n",
        "print(x)\n",
        "y = x+2\n",
        "print(y)\n",
        "z = torch.sin(y**2)\n",
        "z = z.mean()\n",
        "z.backward() #dz/dx"
      ]
    },
    {
      "cell_type": "code",
      "execution_count": null,
      "metadata": {
        "colab": {
          "base_uri": "https://localhost:8080/"
        },
        "id": "TYPPnqY8uJR1",
        "outputId": "c00ff15a-939d-44e8-f0c1-ed64368487cb"
      },
      "outputs": [
        {
          "name": "stdout",
          "output_type": "stream",
          "text": [
            "tensor([3., 3., 3., 3.])\n",
            "tensor([3., 3., 3., 3.])\n"
          ]
        }
      ],
      "source": [
        "weights = torch.ones(4, requires_grad = True)\n",
        "#weight = torch.sum(weights)\n",
        "#weight=weights\n",
        "for epoch in range(2):\n",
        "  model_output = (weights*3).sum()\n",
        "  model_output.backward()\n",
        "  print(weights.grad)\n",
        "  weights.grad.zero_()"
      ]
    },
    {
      "cell_type": "code",
      "execution_count": null,
      "metadata": {
        "colab": {
          "base_uri": "https://localhost:8080/"
        },
        "id": "sjMQJJcgVpFD",
        "outputId": "517f8445-6e35-4d82-804c-1ed18c3832bb"
      },
      "outputs": [
        {
          "name": "stdout",
          "output_type": "stream",
          "text": [
            "None\n"
          ]
        },
        {
          "data": {
            "text/plain": [
              "tensor(-8.)"
            ]
          },
          "execution_count": 29,
          "metadata": {},
          "output_type": "execute_result"
        }
      ],
      "source": [
        "x = torch.tensor(2.0)\n",
        "y = torch.tensor(10.0)\n",
        "w = torch.tensor(4.0,requires_grad = True)\n",
        "y_hat = w*x\n",
        "loss = (y_hat-y)**2\n",
        "\n",
        "w.grad # dloss/dw"
      ]
    },
    {
      "cell_type": "code",
      "execution_count": null,
      "metadata": {
        "colab": {
          "base_uri": "https://localhost:8080/"
        },
        "id": "UmvCAgHcYh7P",
        "outputId": "df8f856c-6553-4ea6-d55f-a6803ec2d1d7"
      },
      "outputs": [
        {
          "name": "stdout",
          "output_type": "stream",
          "text": [
            "Initialized weights: tensor([3., 1.], requires_grad=True)\n",
            "Gradients: tensor([-4., -6.])\n"
          ]
        }
      ],
      "source": [
        "x = torch.tensor([2.0, 3.0])\n",
        "y = torch.tensor(10.0)\n",
        "\n",
        "w = torch.tensor([3.0, 1.0], requires_grad=True)\n",
        "\n",
        "#y_hat = w[0] * x[0] + w[1] * x[1]\n",
        "\n",
        "y_hat = torch.dot(w,x)\n",
        "loss = (y_hat - y) ** 2\n",
        "\n",
        "\n",
        "loss.backward()\n",
        "\n",
        "print(f\"Initialized weights: {w}\")\n",
        "print(f\"Gradients: {w.grad}\")\n"
      ]
    },
    {
      "cell_type": "code",
      "execution_count": null,
      "metadata": {
        "colab": {
          "base_uri": "https://localhost:8080/"
        },
        "id": "ZNxcgjqhaJrl",
        "outputId": "5e439d7f-fb15-4f1f-ce58-b68172e6bb8c"
      },
      "outputs": [
        {
          "name": "stdout",
          "output_type": "stream",
          "text": [
            "8\n",
            "[2 6]\n"
          ]
        }
      ],
      "source": [
        "print(np.dot(np.array([1,2]),np.array([2,3])))\n",
        "print(np.array([1,2])*np.array([2,3]))"
      ]
    },
    {
      "cell_type": "markdown",
      "metadata": {
        "id": "8gXk8abinJck"
      },
      "source": [
        "<h1 style=\"font-size:1.125rem;\">Linear Regression from Scratch</h1>\n"
      ]
    },
    {
      "cell_type": "code",
      "execution_count": null,
      "metadata": {
        "colab": {
          "base_uri": "https://localhost:8080/"
        },
        "id": "OH1iSDO06PiC",
        "outputId": "de5b0e88-1db5-4fea-a61e-35d0ca106f8f"
      },
      "outputs": [
        {
          "name": "stdout",
          "output_type": "stream",
          "text": [
            "Epoch 1 --- Prediction: 11.200000000000001, W = 2.2400, loss = 15.5000\n",
            "Epoch 2 --- Prediction: 9.712, W = 1.9424, loss = 0.8928\n",
            "Epoch 3 --- Prediction: 10.06912, W = 2.0138, loss = 0.0514\n",
            "Epoch 4 --- Prediction: 9.983411199999999, W = 1.9967, loss = 0.0030\n",
            "Epoch 5 --- Prediction: 10.003981312, W = 2.0008, loss = 0.0002\n",
            "Epoch 6 --- Prediction: 9.999044485119999, W = 1.9998, loss = 0.0000\n",
            "Epoch 7 --- Prediction: 10.0002293235712, W = 2.0000, loss = 0.0000\n",
            "Epoch 8 --- Prediction: 9.999944962342912, W = 2.0000, loss = 0.0000\n",
            "Epoch 9 --- Prediction: 10.0000132090377, W = 2.0000, loss = 0.0000\n",
            "Epoch 10 --- Prediction: 9.999996829830952, W = 2.0000, loss = 0.0000\n",
            "Epoch 11 --- Prediction: 10.000000760840571, W = 2.0000, loss = 0.0000\n",
            "Epoch 12 --- Prediction: 9.999999817398264, W = 2.0000, loss = 0.0000\n",
            "Epoch 13 --- Prediction: 10.000000043824414, W = 2.0000, loss = 0.0000\n",
            "Epoch 14 --- Prediction: 9.99999998948214, W = 2.0000, loss = 0.0000\n",
            "Epoch 15 --- Prediction: 10.000000002524285, W = 2.0000, loss = 0.0000\n",
            "Epoch 16 --- Prediction: 9.999999999394172, W = 2.0000, loss = 0.0000\n",
            "Epoch 17 --- Prediction: 10.000000000145398, W = 2.0000, loss = 0.0000\n",
            "Epoch 18 --- Prediction: 9.999999999965105, W = 2.0000, loss = 0.0000\n",
            "Epoch 19 --- Prediction: 10.000000000008376, W = 2.0000, loss = 0.0000\n",
            "Epoch 20 --- Prediction: 9.99999999999799, W = 2.0000, loss = 0.0000\n"
          ]
        }
      ],
      "source": [
        "# Set X, Y and W(weight)\n",
        "# Suppose y = 2*x\n",
        "X = np.array([1,3,4,6],dtype=np.float32)\n",
        "Y = np.array([2,6,8,12],dtype=np.float32)\n",
        "W = 1.0\n",
        "#forward\n",
        "def forward(W,X):\n",
        "  return np.dot(W,X)\n",
        "#forward(W,X)\n",
        "#loss\n",
        "def MSE(Y_hat,Y):\n",
        "  return np.array((Y_hat-Y)**2).mean()\n",
        "#gradient\n",
        "def gradient(X,Y_hat,Y):\n",
        "  return 2*np.dot(X,(Y_hat-Y))\n",
        "epochs = 20\n",
        "lr = 0.01\n",
        "for epoch in range(epochs):\n",
        "  y_hat = forward(W,X)\n",
        "  loss = MSE(y_hat, Y)\n",
        "  grad = gradient(X,y_hat,Y)\n",
        "  #update using GD\n",
        "  W -= lr*grad\n",
        "  print(f'Epoch {epoch+1} --- Prediction: {forward(W,5)}, W = {W:.4f}, loss = {loss:.4f}')\n"
      ]
    },
    {
      "cell_type": "markdown",
      "metadata": {
        "id": "Hg2vnNLlBq-T"
      },
      "source": [
        "<h1 style=\"font-size:1.125rem;\">Linear Regression with Pytorch</h1>\n"
      ]
    },
    {
      "cell_type": "code",
      "execution_count": null,
      "metadata": {
        "colab": {
          "base_uri": "https://localhost:8080/"
        },
        "id": "U6-Ld23_BqXN",
        "outputId": "098f5027-2acf-4c3d-b32d-5d246a8a4e51"
      },
      "outputs": [
        {
          "name": "stdout",
          "output_type": "stream",
          "text": [
            "Predictions before training: -4.059\n",
            "Epoch 1 --- Prediction: 0.5067, W = 0.1067, loss = 123.0573\n",
            "Epoch 2 --- Prediction: 3.5838, W = 0.6955, loss = 55.9168\n",
            "Epoch 3 --- Prediction: 5.6577, W = 1.0925, loss = 25.4176\n",
            "Epoch 4 --- Prediction: 7.0556, W = 1.3601, loss = 11.5628\n",
            "Epoch 5 --- Prediction: 7.9979, W = 1.5406, loss = 5.2691\n",
            "Epoch 6 --- Prediction: 8.6330, W = 1.6624, loss = 2.4100\n",
            "Epoch 7 --- Prediction: 9.0611, W = 1.7446, loss = 1.1110\n",
            "Epoch 8 --- Prediction: 9.3498, W = 1.8001, loss = 0.5209\n",
            "Epoch 9 --- Prediction: 9.5444, W = 1.8376, loss = 0.2526\n",
            "Epoch 10 --- Prediction: 9.6756, W = 1.8630, loss = 0.1307\n",
            "Epoch 11 --- Prediction: 9.7641, W = 1.8802, loss = 0.0751\n",
            "Epoch 12 --- Prediction: 9.8239, W = 1.8920, loss = 0.0498\n",
            "Epoch 13 --- Prediction: 9.8642, W = 1.9000, loss = 0.0381\n",
            "Epoch 14 --- Prediction: 9.8914, W = 1.9055, loss = 0.0327\n",
            "Epoch 15 --- Prediction: 9.9099, W = 1.9093, loss = 0.0301\n",
            "Epoch 16 --- Prediction: 9.9223, W = 1.9120, loss = 0.0289\n",
            "Epoch 17 --- Prediction: 9.9308, W = 1.9139, loss = 0.0281\n",
            "Epoch 18 --- Prediction: 9.9366, W = 1.9153, loss = 0.0277\n",
            "Epoch 19 --- Prediction: 9.9406, W = 1.9163, loss = 0.0274\n",
            "Epoch 20 --- Prediction: 9.9433, W = 1.9171, loss = 0.0271\n"
          ]
        }
      ],
      "source": [
        "# Set X, Y and W(weight)\n",
        "# Suppose y = 2*x\n",
        "import torch.nn as nn\n",
        "X = torch.tensor([[1],[3],[4],[6]],dtype=torch.float32)\n",
        "Y = torch.tensor([[2],[6],[8],[12]],dtype=torch.float32)\n",
        "X_test = torch.tensor([[5]],dtype=torch.float32)\n",
        "#W = torch.tensor([5],requires_grad=True)\n",
        "epochs = 20\n",
        "lr = 0.01\n",
        "sample,feature = X.shape\n",
        "\n",
        "model = nn.Linear(feature,feature)\n",
        "print(f'Predictions before training: {model(X_test).item():.3f}')\n",
        "\n",
        "loss = nn.MSELoss()\n",
        "optimizer = torch.optim.SGD(model.parameters(),lr=lr)\n",
        "for epoch in range(epochs):\n",
        "  #forward\n",
        "  y_pred = model(X)\n",
        "  #loss\n",
        "  l = loss(Y,y_pred)\n",
        "  #gradient\n",
        "  l.backward() #dl/dw\n",
        "  optimizer.step()\n",
        "  optimizer.zero_grad()\n",
        "  w,b=model.parameters()\n",
        "  #print(f'Epoch {epoch+1} --- Prediction: {y_pred.squeeze().detach().numpy()}, W = {w[0][0].item():.4f}, loss = {l.item():.4f}')\n",
        "  print(f'Epoch {epoch+1} --- Prediction: {model(X_test).item():.4f}, W = {w[0][0].item():.4f}, loss = {l.item():.4f}')\n",
        "\n",
        "\n"
      ]
    },
    {
      "cell_type": "markdown",
      "metadata": {
        "id": "1xhZxoud0Zvo"
      },
      "source": [
        "<h1 style=\"font-size:1.125rem;\">Logistic Regression with Pytorch</h1>"
      ]
    },
    {
      "cell_type": "code",
      "execution_count": 1,
      "metadata": {
        "id": "6evuJ_EN0gZ9"
      },
      "outputs": [
        {
          "name": "stderr",
          "output_type": "stream",
          "text": [
            "/Library/Frameworks/Python.framework/Versions/3.12/lib/python3.12/site-packages/threadpoolctl.py:1214: RuntimeWarning: \n",
            "Found Intel OpenMP ('libiomp') and LLVM OpenMP ('libomp') loaded at\n",
            "the same time. Both libraries are known to be incompatible and this\n",
            "can cause random crashes or deadlocks on Linux when loaded in the\n",
            "same Python program.\n",
            "Using threadpoolctl may cause crashes or deadlocks. For more\n",
            "information and possible workarounds, please see\n",
            "    https://github.com/joblib/threadpoolctl/blob/master/multiple_openmp.md\n",
            "\n",
            "  warnings.warn(msg, RuntimeWarning)\n"
          ]
        }
      ],
      "source": [
        "import torch\n",
        "import torch.nn as nn\n",
        "import numpy as np\n",
        "from sklearn import datasets\n",
        "from sklearn.preprocessing import StandardScaler\n",
        "from sklearn.model_selection import train_test_split\n"
      ]
    },
    {
      "cell_type": "code",
      "execution_count": 36,
      "metadata": {},
      "outputs": [
        {
          "name": "stdout",
          "output_type": "stream",
          "text": [
            "30\n"
          ]
        }
      ],
      "source": [
        "bc = datasets.load_breast_cancer()\n",
        "x,y = bc.data,bc.target\n",
        "n_num_features = x.shape[1]\n",
        "x_train, x_test, y_train, y_test = train_test_split(x,y,test_size=0.2,random_state=1234)\n",
        "sc = StandardScaler()\n",
        "x_train = sc.fit_transform(x_train)\n",
        "x_test = sc.transform(x_test)\n",
        "x_train = torch.from_numpy(x_train.astype(np.float32))\n",
        "x_test = torch.from_numpy(x_test.astype(np.float32))\n",
        "y_train = torch.from_numpy(y_train.astype(np.float32))\n",
        "y_test = torch.from_numpy(y_test.astype(np.float32))\n",
        "print(num_features)\n"
      ]
    },
    {
      "cell_type": "code",
      "execution_count": 35,
      "metadata": {},
      "outputs": [
        {
          "ename": "ValueError",
          "evalue": "Using a target size (torch.Size([455])) that is different to the input size (torch.Size([455, 1])) is deprecated. Please ensure they have the same size.",
          "output_type": "error",
          "traceback": [
            "\u001b[0;31m---------------------------------------------------------------------------\u001b[0m",
            "\u001b[0;31mValueError\u001b[0m                                Traceback (most recent call last)",
            "Cell \u001b[0;32mIn[35], line 16\u001b[0m\n\u001b[1;32m     14\u001b[0m \u001b[38;5;28;01mfor\u001b[39;00m epoch \u001b[38;5;129;01min\u001b[39;00m \u001b[38;5;28mrange\u001b[39m(num_epochs):\n\u001b[1;32m     15\u001b[0m     y_pred \u001b[38;5;241m=\u001b[39m model(x_train)\n\u001b[0;32m---> 16\u001b[0m     loss \u001b[38;5;241m=\u001b[39m \u001b[43mcriterion\u001b[49m\u001b[43m(\u001b[49m\u001b[43my_pred\u001b[49m\u001b[43m,\u001b[49m\u001b[43my_train\u001b[49m\u001b[43m)\u001b[49m\n\u001b[1;32m     17\u001b[0m     loss\u001b[38;5;241m.\u001b[39mbackward()\n\u001b[1;32m     18\u001b[0m     optimizer\u001b[38;5;241m.\u001b[39mstep()\n",
            "File \u001b[0;32m/Library/Frameworks/Python.framework/Versions/3.12/lib/python3.12/site-packages/torch/nn/modules/module.py:1511\u001b[0m, in \u001b[0;36mModule._wrapped_call_impl\u001b[0;34m(self, *args, **kwargs)\u001b[0m\n\u001b[1;32m   1509\u001b[0m     \u001b[38;5;28;01mreturn\u001b[39;00m \u001b[38;5;28mself\u001b[39m\u001b[38;5;241m.\u001b[39m_compiled_call_impl(\u001b[38;5;241m*\u001b[39margs, \u001b[38;5;241m*\u001b[39m\u001b[38;5;241m*\u001b[39mkwargs)  \u001b[38;5;66;03m# type: ignore[misc]\u001b[39;00m\n\u001b[1;32m   1510\u001b[0m \u001b[38;5;28;01melse\u001b[39;00m:\n\u001b[0;32m-> 1511\u001b[0m     \u001b[38;5;28;01mreturn\u001b[39;00m \u001b[38;5;28;43mself\u001b[39;49m\u001b[38;5;241;43m.\u001b[39;49m\u001b[43m_call_impl\u001b[49m\u001b[43m(\u001b[49m\u001b[38;5;241;43m*\u001b[39;49m\u001b[43margs\u001b[49m\u001b[43m,\u001b[49m\u001b[43m \u001b[49m\u001b[38;5;241;43m*\u001b[39;49m\u001b[38;5;241;43m*\u001b[39;49m\u001b[43mkwargs\u001b[49m\u001b[43m)\u001b[49m\n",
            "File \u001b[0;32m/Library/Frameworks/Python.framework/Versions/3.12/lib/python3.12/site-packages/torch/nn/modules/module.py:1520\u001b[0m, in \u001b[0;36mModule._call_impl\u001b[0;34m(self, *args, **kwargs)\u001b[0m\n\u001b[1;32m   1515\u001b[0m \u001b[38;5;66;03m# If we don't have any hooks, we want to skip the rest of the logic in\u001b[39;00m\n\u001b[1;32m   1516\u001b[0m \u001b[38;5;66;03m# this function, and just call forward.\u001b[39;00m\n\u001b[1;32m   1517\u001b[0m \u001b[38;5;28;01mif\u001b[39;00m \u001b[38;5;129;01mnot\u001b[39;00m (\u001b[38;5;28mself\u001b[39m\u001b[38;5;241m.\u001b[39m_backward_hooks \u001b[38;5;129;01mor\u001b[39;00m \u001b[38;5;28mself\u001b[39m\u001b[38;5;241m.\u001b[39m_backward_pre_hooks \u001b[38;5;129;01mor\u001b[39;00m \u001b[38;5;28mself\u001b[39m\u001b[38;5;241m.\u001b[39m_forward_hooks \u001b[38;5;129;01mor\u001b[39;00m \u001b[38;5;28mself\u001b[39m\u001b[38;5;241m.\u001b[39m_forward_pre_hooks\n\u001b[1;32m   1518\u001b[0m         \u001b[38;5;129;01mor\u001b[39;00m _global_backward_pre_hooks \u001b[38;5;129;01mor\u001b[39;00m _global_backward_hooks\n\u001b[1;32m   1519\u001b[0m         \u001b[38;5;129;01mor\u001b[39;00m _global_forward_hooks \u001b[38;5;129;01mor\u001b[39;00m _global_forward_pre_hooks):\n\u001b[0;32m-> 1520\u001b[0m     \u001b[38;5;28;01mreturn\u001b[39;00m \u001b[43mforward_call\u001b[49m\u001b[43m(\u001b[49m\u001b[38;5;241;43m*\u001b[39;49m\u001b[43margs\u001b[49m\u001b[43m,\u001b[49m\u001b[43m \u001b[49m\u001b[38;5;241;43m*\u001b[39;49m\u001b[38;5;241;43m*\u001b[39;49m\u001b[43mkwargs\u001b[49m\u001b[43m)\u001b[49m\n\u001b[1;32m   1522\u001b[0m \u001b[38;5;28;01mtry\u001b[39;00m:\n\u001b[1;32m   1523\u001b[0m     result \u001b[38;5;241m=\u001b[39m \u001b[38;5;28;01mNone\u001b[39;00m\n",
            "File \u001b[0;32m/Library/Frameworks/Python.framework/Versions/3.12/lib/python3.12/site-packages/torch/nn/modules/loss.py:618\u001b[0m, in \u001b[0;36mBCELoss.forward\u001b[0;34m(self, input, target)\u001b[0m\n\u001b[1;32m    617\u001b[0m \u001b[38;5;28;01mdef\u001b[39;00m \u001b[38;5;21mforward\u001b[39m(\u001b[38;5;28mself\u001b[39m, \u001b[38;5;28minput\u001b[39m: Tensor, target: Tensor) \u001b[38;5;241m-\u001b[39m\u001b[38;5;241m>\u001b[39m Tensor:\n\u001b[0;32m--> 618\u001b[0m     \u001b[38;5;28;01mreturn\u001b[39;00m \u001b[43mF\u001b[49m\u001b[38;5;241;43m.\u001b[39;49m\u001b[43mbinary_cross_entropy\u001b[49m\u001b[43m(\u001b[49m\u001b[38;5;28;43minput\u001b[39;49m\u001b[43m,\u001b[49m\u001b[43m \u001b[49m\u001b[43mtarget\u001b[49m\u001b[43m,\u001b[49m\u001b[43m \u001b[49m\u001b[43mweight\u001b[49m\u001b[38;5;241;43m=\u001b[39;49m\u001b[38;5;28;43mself\u001b[39;49m\u001b[38;5;241;43m.\u001b[39;49m\u001b[43mweight\u001b[49m\u001b[43m,\u001b[49m\u001b[43m \u001b[49m\u001b[43mreduction\u001b[49m\u001b[38;5;241;43m=\u001b[39;49m\u001b[38;5;28;43mself\u001b[39;49m\u001b[38;5;241;43m.\u001b[39;49m\u001b[43mreduction\u001b[49m\u001b[43m)\u001b[49m\n",
            "File \u001b[0;32m/Library/Frameworks/Python.framework/Versions/3.12/lib/python3.12/site-packages/torch/nn/functional.py:3118\u001b[0m, in \u001b[0;36mbinary_cross_entropy\u001b[0;34m(input, target, weight, size_average, reduce, reduction)\u001b[0m\n\u001b[1;32m   3116\u001b[0m     reduction_enum \u001b[38;5;241m=\u001b[39m _Reduction\u001b[38;5;241m.\u001b[39mget_enum(reduction)\n\u001b[1;32m   3117\u001b[0m \u001b[38;5;28;01mif\u001b[39;00m target\u001b[38;5;241m.\u001b[39msize() \u001b[38;5;241m!=\u001b[39m \u001b[38;5;28minput\u001b[39m\u001b[38;5;241m.\u001b[39msize():\n\u001b[0;32m-> 3118\u001b[0m     \u001b[38;5;28;01mraise\u001b[39;00m \u001b[38;5;167;01mValueError\u001b[39;00m(\n\u001b[1;32m   3119\u001b[0m         \u001b[38;5;124m\"\u001b[39m\u001b[38;5;124mUsing a target size (\u001b[39m\u001b[38;5;132;01m{}\u001b[39;00m\u001b[38;5;124m) that is different to the input size (\u001b[39m\u001b[38;5;132;01m{}\u001b[39;00m\u001b[38;5;124m) is deprecated. \u001b[39m\u001b[38;5;124m\"\u001b[39m\n\u001b[1;32m   3120\u001b[0m         \u001b[38;5;124m\"\u001b[39m\u001b[38;5;124mPlease ensure they have the same size.\u001b[39m\u001b[38;5;124m\"\u001b[39m\u001b[38;5;241m.\u001b[39mformat(target\u001b[38;5;241m.\u001b[39msize(), \u001b[38;5;28minput\u001b[39m\u001b[38;5;241m.\u001b[39msize())\n\u001b[1;32m   3121\u001b[0m     )\n\u001b[1;32m   3123\u001b[0m \u001b[38;5;28;01mif\u001b[39;00m weight \u001b[38;5;129;01mis\u001b[39;00m \u001b[38;5;129;01mnot\u001b[39;00m \u001b[38;5;28;01mNone\u001b[39;00m:\n\u001b[1;32m   3124\u001b[0m     new_size \u001b[38;5;241m=\u001b[39m _infer_size(target\u001b[38;5;241m.\u001b[39msize(), weight\u001b[38;5;241m.\u001b[39msize())\n",
            "\u001b[0;31mValueError\u001b[0m: Using a target size (torch.Size([455])) that is different to the input size (torch.Size([455, 1])) is deprecated. Please ensure they have the same size."
          ]
        }
      ],
      "source": [
        "class LogisticRegression(nn.Module):\n",
        "    def __init__(self,n_features):\n",
        "        super(LogisticRegression,self).__init__()\n",
        "        self.linear = nn.Linear(n_features,1)\n",
        "    def forward(self,x):\n",
        "        predicted = torch.sigmoid(self.linear(x))\n",
        "        return predicted\n",
        "learning_rate = 0.01\n",
        "num_epochs = 100\n",
        "criterion = nn.BCELoss()\n",
        "model = LogisticRegression(num_features)\n",
        "optimizer = torch.optim.SGD(params=model.parameters(),lr=learning_rate)\n",
        "\n",
        "for epoch in range(num_epochs):\n",
        "    y_pred = model(x_train)\n",
        "    loss = criterion(y_pred,y_train)\n",
        "    loss.backward()\n",
        "    optimizer.step()\n",
        "    optimizer.zero_grad()\n",
        "    if (epoch+1) % 10 == 0:\n",
        "        print(f'Epoch: {epoch+1}, loss: {loss:.3f}')\n"
      ]
    }
  ],
  "metadata": {
    "accelerator": "GPU",
    "colab": {
      "gpuType": "T4",
      "provenance": []
    },
    "kernelspec": {
      "display_name": "Python 3",
      "name": "python3"
    },
    "language_info": {
      "codemirror_mode": {
        "name": "ipython",
        "version": 3
      },
      "file_extension": ".py",
      "mimetype": "text/x-python",
      "name": "python",
      "nbconvert_exporter": "python",
      "pygments_lexer": "ipython3",
      "version": "3.12.3"
    }
  },
  "nbformat": 4,
  "nbformat_minor": 0
}
