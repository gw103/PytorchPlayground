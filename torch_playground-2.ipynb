{
  "nbformat": 4,
  "nbformat_minor": 0,
  "metadata": {
    "colab": {
      "provenance": [],
      "gpuType": "T4"
    },
    "kernelspec": {
      "name": "python3",
      "display_name": "Python 3"
    },
    "language_info": {
      "name": "python"
    },
    "accelerator": "GPU"
  },
  "cells": [
    {
      "cell_type": "code",
      "execution_count": null,
      "metadata": {
        "id": "vPDhWlchgdhg"
      },
      "outputs": [],
      "source": [
        "import numpy as np\n",
        "import torch"
      ]
    },
    {
      "cell_type": "code",
      "source": [],
      "metadata": {
        "id": "i93rOwkWxBWE"
      },
      "execution_count": null,
      "outputs": []
    },
    {
      "cell_type": "code",
      "source": [
        "a = torch.ones(5)\n",
        "b = np.array(a)\n",
        "c = a.numpy()\n",
        "print(type(b))\n",
        "print(type(a))"
      ],
      "metadata": {
        "colab": {
          "base_uri": "https://localhost:8080/"
        },
        "id": "C1eNVhpCgf-A",
        "outputId": "c106fd04-d720-4a49-f308-f4c1d5dab3ab"
      },
      "execution_count": null,
      "outputs": [
        {
          "output_type": "stream",
          "name": "stdout",
          "text": [
            "<class 'numpy.ndarray'>\n",
            "<class 'torch.Tensor'>\n"
          ]
        }
      ]
    },
    {
      "cell_type": "code",
      "source": [
        "a = np.ones(5)\n",
        "b = torch.tensor(a)\n",
        "print(b)\n",
        "b = torch.from_numpy(a)\n",
        "print(b)"
      ],
      "metadata": {
        "colab": {
          "base_uri": "https://localhost:8080/"
        },
        "id": "A0lBUtaVgyA8",
        "outputId": "815813f3-9ae5-4a8c-e449-6bff6869cc39"
      },
      "execution_count": null,
      "outputs": [
        {
          "output_type": "stream",
          "name": "stdout",
          "text": [
            "tensor([1., 1., 1., 1., 1.], dtype=torch.float64)\n",
            "tensor([1., 1., 1., 1., 1.], dtype=torch.float64)\n"
          ]
        }
      ]
    },
    {
      "cell_type": "code",
      "source": [
        "if torch.cuda.is_available:\n",
        "  device = torch.device('cuda')\n",
        "  a = torch.ones(6, device = device)\n",
        "  b = torch.ones(6)\n",
        "  b = b.to(device)\n",
        "  c = a+b\n",
        "  c = c.to('cpu')\n",
        "  #c = c.cpu()\n",
        "  c = c.numpy()\n",
        "  print(c)\n",
        "  print(type(c))"
      ],
      "metadata": {
        "colab": {
          "base_uri": "https://localhost:8080/"
        },
        "id": "mUWpN2EzkHwF",
        "outputId": "8e86365d-6e9e-4a2c-8bec-65241217379a"
      },
      "execution_count": null,
      "outputs": [
        {
          "output_type": "stream",
          "name": "stdout",
          "text": [
            "[2. 2. 2. 2. 2. 2.]\n",
            "<class 'numpy.ndarray'>\n"
          ]
        }
      ]
    },
    {
      "cell_type": "code",
      "source": [
        "c = torch.ones(5,requires_grad = True)"
      ],
      "metadata": {
        "id": "-7QbnbRjmbTj"
      },
      "execution_count": null,
      "outputs": []
    },
    {
      "cell_type": "code",
      "source": [
        "import math\n",
        "x = torch.randn(3, requires_grad = True)\n",
        "print(x)\n",
        "y = x+2\n",
        "print(y)\n",
        "z = torch.sin(y**2)\n",
        "z = z.mean()\n",
        "z.backward() #dz/dx"
      ],
      "metadata": {
        "colab": {
          "base_uri": "https://localhost:8080/"
        },
        "id": "1DLTKZ0inBgI",
        "outputId": "b7c7e2e1-bd19-41c0-d7c3-66e927c2c117"
      },
      "execution_count": null,
      "outputs": [
        {
          "output_type": "stream",
          "name": "stdout",
          "text": [
            "tensor([0.6941, 0.3010, 0.3399], requires_grad=True)\n",
            "tensor([2.6941, 2.3010, 2.3399], grad_fn=<AddBackward0>)\n"
          ]
        }
      ]
    },
    {
      "cell_type": "code",
      "source": [
        "weights = torch.ones(4, requires_grad = True)\n",
        "#weight = torch.sum(weights)\n",
        "#weight=weights\n",
        "for epoch in range(2):\n",
        "  model_output = (weights*3).sum()\n",
        "  model_output.backward()\n",
        "  print(weights.grad)\n",
        "  weights.grad.zero_()"
      ],
      "metadata": {
        "id": "TYPPnqY8uJR1",
        "colab": {
          "base_uri": "https://localhost:8080/"
        },
        "outputId": "c00ff15a-939d-44e8-f0c1-ed64368487cb"
      },
      "execution_count": null,
      "outputs": [
        {
          "output_type": "stream",
          "name": "stdout",
          "text": [
            "tensor([3., 3., 3., 3.])\n",
            "tensor([3., 3., 3., 3.])\n"
          ]
        }
      ]
    },
    {
      "cell_type": "code",
      "source": [
        "x = torch.tensor(2.0)\n",
        "y = torch.tensor(10.0)\n",
        "w = torch.tensor(4.0,requires_grad = True)\n",
        "y_hat = w*x\n",
        "loss = (y_hat-y)**2\n",
        "\n",
        "w.grad # dloss/dw"
      ],
      "metadata": {
        "id": "sjMQJJcgVpFD",
        "colab": {
          "base_uri": "https://localhost:8080/"
        },
        "outputId": "517f8445-6e35-4d82-804c-1ed18c3832bb"
      },
      "execution_count": null,
      "outputs": [
        {
          "output_type": "stream",
          "name": "stdout",
          "text": [
            "None\n"
          ]
        },
        {
          "output_type": "execute_result",
          "data": {
            "text/plain": [
              "tensor(-8.)"
            ]
          },
          "metadata": {},
          "execution_count": 29
        }
      ]
    },
    {
      "cell_type": "code",
      "source": [
        "x = torch.tensor([2.0, 3.0])\n",
        "y = torch.tensor(10.0)\n",
        "\n",
        "w = torch.tensor([3.0, 1.0], requires_grad=True)\n",
        "\n",
        "#y_hat = w[0] * x[0] + w[1] * x[1]\n",
        "\n",
        "y_hat = torch.dot(w,x)\n",
        "loss = (y_hat - y) ** 2\n",
        "\n",
        "\n",
        "loss.backward()\n",
        "\n",
        "print(f\"Initialized weights: {w}\")\n",
        "print(f\"Gradients: {w.grad}\")\n"
      ],
      "metadata": {
        "colab": {
          "base_uri": "https://localhost:8080/"
        },
        "id": "UmvCAgHcYh7P",
        "outputId": "df8f856c-6553-4ea6-d55f-a6803ec2d1d7"
      },
      "execution_count": null,
      "outputs": [
        {
          "output_type": "stream",
          "name": "stdout",
          "text": [
            "Initialized weights: tensor([3., 1.], requires_grad=True)\n",
            "Gradients: tensor([-4., -6.])\n"
          ]
        }
      ]
    },
    {
      "cell_type": "code",
      "source": [
        "print(np.dot(np.array([1,2]),np.array([2,3])))\n",
        "print(np.array([1,2])*np.array([2,3]))"
      ],
      "metadata": {
        "colab": {
          "base_uri": "https://localhost:8080/"
        },
        "id": "ZNxcgjqhaJrl",
        "outputId": "5e439d7f-fb15-4f1f-ce58-b68172e6bb8c"
      },
      "execution_count": null,
      "outputs": [
        {
          "output_type": "stream",
          "name": "stdout",
          "text": [
            "8\n",
            "[2 6]\n"
          ]
        }
      ]
    },
    {
      "cell_type": "markdown",
      "source": [
        "<h1 style=\"font-size:1.125rem;\">Linear Regression from Scratch</h1>\n"
      ],
      "metadata": {
        "id": "8gXk8abinJck"
      }
    },
    {
      "cell_type": "code",
      "source": [
        "# Set X, Y and W(weight)\n",
        "# Suppose y = 2*x\n",
        "X = np.array([1,3,4,6],dtype=np.float32)\n",
        "Y = np.array([2,6,8,12],dtype=np.float32)\n",
        "W = 1.0\n",
        "#forward\n",
        "def forward(W,X):\n",
        "  return np.dot(W,X)\n",
        "#forward(W,X)\n",
        "#loss\n",
        "def MSE(Y_hat,Y):\n",
        "  return np.array((Y_hat-Y)**2).mean()\n",
        "#gradient\n",
        "def gradient(X,Y_hat,Y):\n",
        "  return 2*np.dot(X,(Y_hat-Y))\n",
        "epochs = 20\n",
        "lr = 0.01\n",
        "for epoch in range(epochs):\n",
        "  y_hat = forward(W,X)\n",
        "  loss = MSE(y_hat, Y)\n",
        "  grad = gradient(X,y_hat,Y)\n",
        "  #update using GD\n",
        "  W -= lr*grad\n",
        "  print(f'Epoch {epoch+1} --- Prediction: {forward(W,5)}, W = {W:.4f}, loss = {loss:.4f}')\n"
      ],
      "metadata": {
        "colab": {
          "base_uri": "https://localhost:8080/"
        },
        "id": "OH1iSDO06PiC",
        "outputId": "de5b0e88-1db5-4fea-a61e-35d0ca106f8f"
      },
      "execution_count": null,
      "outputs": [
        {
          "output_type": "stream",
          "name": "stdout",
          "text": [
            "Epoch 1 --- Prediction: 11.200000000000001, W = 2.2400, loss = 15.5000\n",
            "Epoch 2 --- Prediction: 9.712, W = 1.9424, loss = 0.8928\n",
            "Epoch 3 --- Prediction: 10.06912, W = 2.0138, loss = 0.0514\n",
            "Epoch 4 --- Prediction: 9.983411199999999, W = 1.9967, loss = 0.0030\n",
            "Epoch 5 --- Prediction: 10.003981312, W = 2.0008, loss = 0.0002\n",
            "Epoch 6 --- Prediction: 9.999044485119999, W = 1.9998, loss = 0.0000\n",
            "Epoch 7 --- Prediction: 10.0002293235712, W = 2.0000, loss = 0.0000\n",
            "Epoch 8 --- Prediction: 9.999944962342912, W = 2.0000, loss = 0.0000\n",
            "Epoch 9 --- Prediction: 10.0000132090377, W = 2.0000, loss = 0.0000\n",
            "Epoch 10 --- Prediction: 9.999996829830952, W = 2.0000, loss = 0.0000\n",
            "Epoch 11 --- Prediction: 10.000000760840571, W = 2.0000, loss = 0.0000\n",
            "Epoch 12 --- Prediction: 9.999999817398264, W = 2.0000, loss = 0.0000\n",
            "Epoch 13 --- Prediction: 10.000000043824414, W = 2.0000, loss = 0.0000\n",
            "Epoch 14 --- Prediction: 9.99999998948214, W = 2.0000, loss = 0.0000\n",
            "Epoch 15 --- Prediction: 10.000000002524285, W = 2.0000, loss = 0.0000\n",
            "Epoch 16 --- Prediction: 9.999999999394172, W = 2.0000, loss = 0.0000\n",
            "Epoch 17 --- Prediction: 10.000000000145398, W = 2.0000, loss = 0.0000\n",
            "Epoch 18 --- Prediction: 9.999999999965105, W = 2.0000, loss = 0.0000\n",
            "Epoch 19 --- Prediction: 10.000000000008376, W = 2.0000, loss = 0.0000\n",
            "Epoch 20 --- Prediction: 9.99999999999799, W = 2.0000, loss = 0.0000\n"
          ]
        }
      ]
    },
    {
      "cell_type": "markdown",
      "source": [
        "<h1 style=\"font-size:1.125rem;\">Linear Regression with Pytorch</h1>\n"
      ],
      "metadata": {
        "id": "Hg2vnNLlBq-T"
      }
    },
    {
      "cell_type": "code",
      "source": [
        "# Set X, Y and W(weight)\n",
        "# Suppose y = 2*x\n",
        "import torch.nn as nn\n",
        "X = torch.tensor([[1],[3],[4],[6]],dtype=torch.float32)\n",
        "Y = torch.tensor([[2],[6],[8],[12]],dtype=torch.float32)\n",
        "X_test = torch.tensor([[5]],dtype=torch.float32)\n",
        "#W = torch.tensor([5],requires_grad=True)\n",
        "epochs = 20\n",
        "lr = 0.01\n",
        "sample,feature = X.shape\n",
        "\n",
        "model = nn.Linear(feature,feature)\n",
        "print(f'Predictions before training: {model(X_test).item():.3f}')\n",
        "\n",
        "loss = nn.MSELoss()\n",
        "optimizer = torch.optim.SGD(model.parameters(),lr=lr)\n",
        "for epoch in range(epochs):\n",
        "  #forward\n",
        "  y_pred = model(X)\n",
        "  #loss\n",
        "  l = loss(Y,y_pred)\n",
        "  #gradient\n",
        "  l.backward() #dl/dw\n",
        "  optimizer.step()\n",
        "  optimizer.zero_grad()\n",
        "  w,b=model.parameters()\n",
        "  #print(f'Epoch {epoch+1} --- Prediction: {y_pred.squeeze().detach().numpy()}, W = {w[0][0].item():.4f}, loss = {l.item():.4f}')\n",
        "  print(f'Epoch {epoch+1} --- Prediction: {model(X_test).item():.4f}, W = {w[0][0].item():.4f}, loss = {l.item():.4f}')\n",
        "\n",
        "\n"
      ],
      "metadata": {
        "colab": {
          "base_uri": "https://localhost:8080/"
        },
        "id": "U6-Ld23_BqXN",
        "outputId": "098f5027-2acf-4c3d-b32d-5d246a8a4e51"
      },
      "execution_count": null,
      "outputs": [
        {
          "output_type": "stream",
          "name": "stdout",
          "text": [
            "Predictions before training: -4.059\n",
            "Epoch 1 --- Prediction: 0.5067, W = 0.1067, loss = 123.0573\n",
            "Epoch 2 --- Prediction: 3.5838, W = 0.6955, loss = 55.9168\n",
            "Epoch 3 --- Prediction: 5.6577, W = 1.0925, loss = 25.4176\n",
            "Epoch 4 --- Prediction: 7.0556, W = 1.3601, loss = 11.5628\n",
            "Epoch 5 --- Prediction: 7.9979, W = 1.5406, loss = 5.2691\n",
            "Epoch 6 --- Prediction: 8.6330, W = 1.6624, loss = 2.4100\n",
            "Epoch 7 --- Prediction: 9.0611, W = 1.7446, loss = 1.1110\n",
            "Epoch 8 --- Prediction: 9.3498, W = 1.8001, loss = 0.5209\n",
            "Epoch 9 --- Prediction: 9.5444, W = 1.8376, loss = 0.2526\n",
            "Epoch 10 --- Prediction: 9.6756, W = 1.8630, loss = 0.1307\n",
            "Epoch 11 --- Prediction: 9.7641, W = 1.8802, loss = 0.0751\n",
            "Epoch 12 --- Prediction: 9.8239, W = 1.8920, loss = 0.0498\n",
            "Epoch 13 --- Prediction: 9.8642, W = 1.9000, loss = 0.0381\n",
            "Epoch 14 --- Prediction: 9.8914, W = 1.9055, loss = 0.0327\n",
            "Epoch 15 --- Prediction: 9.9099, W = 1.9093, loss = 0.0301\n",
            "Epoch 16 --- Prediction: 9.9223, W = 1.9120, loss = 0.0289\n",
            "Epoch 17 --- Prediction: 9.9308, W = 1.9139, loss = 0.0281\n",
            "Epoch 18 --- Prediction: 9.9366, W = 1.9153, loss = 0.0277\n",
            "Epoch 19 --- Prediction: 9.9406, W = 1.9163, loss = 0.0274\n",
            "Epoch 20 --- Prediction: 9.9433, W = 1.9171, loss = 0.0271\n"
          ]
        }
      ]
    },
    {
      "cell_type": "markdown",
      "source": [
        "<h1 style=\"font-size:1.125rem;\">Logistic Regression with Pytorch</h1>"
      ],
      "metadata": {
        "id": "1xhZxoud0Zvo"
      }
    },
    {
      "cell_type": "code",
      "source": [
        "import torch\n",
        "import torch.nn as nn\n",
        "import numpy as np\n",
        "from sklearn import datasets\n",
        "from sklearn.preprocessing import StandardScaler\n",
        "from sklearn.model_selection import train_test_split\n"
      ],
      "metadata": {
        "id": "6evuJ_EN0gZ9"
      },
      "execution_count": null,
      "outputs": []
    }
  ]
}